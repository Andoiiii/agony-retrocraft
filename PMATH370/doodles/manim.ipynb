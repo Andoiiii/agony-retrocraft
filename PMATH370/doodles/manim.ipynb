{
 "cells": [
  {
   "cell_type": "code",
   "execution_count": 2,
   "metadata": {},
   "outputs": [
    {
     "data": {
      "text/html": [
       "<pre style=\"white-space:pre;overflow-x:auto;line-height:normal;font-family:Menlo,'DejaVu Sans Mono',consolas,'Courier New',monospace\">Manim Community <span style=\"color: #008000; text-decoration-color: #008000\">v0.18.0</span>\n",
       "\n",
       "</pre>\n"
      ],
      "text/plain": [
       "Manim Community \u001b[32mv0.\u001b[0m\u001b[32m18.0\u001b[0m\n",
       "\n"
      ]
     },
     "metadata": {},
     "output_type": "display_data"
    }
   ],
   "source": [
    "from manim import *\n",
    "config.media_width = \"80%\"\n",
    "config.verbosity = \"WARNING\""
   ]
  },
  {
   "cell_type": "code",
   "execution_count": 10,
   "metadata": {},
   "outputs": [
    {
     "name": "stderr",
     "output_type": "stream",
     "text": [
      "                                                                     "
     ]
    },
    {
     "name": "stderr",
     "output_type": "stream",
     "text": [
      "                                                                                                  \r"
     ]
    },
    {
     "data": {
      "text/html": [
       "<video src=\"media/jupyter/Supersensitive@2024-03-18@12-08-51.mp4\" controls autoplay loop style=\"max-width: 80%;\"  >\n",
       "      Your browser does not support the <code>video</code> element.\n",
       "    </video>"
      ],
      "text/plain": [
       "<IPython.core.display.Video object>"
      ]
     },
     "metadata": {},
     "output_type": "display_data"
    }
   ],
   "source": [
    "class Supersensitive(Scene):\n",
    "    def construct(self):\n",
    "        unit_circle = Circle(radius=1, color=WHITE)\n",
    "        self.play(Create(unit_circle))\n",
    "        dot = Dot(unit_circle.point_from_proportion(0.3), color=WHITE)\n",
    "        dot_label = MathTex(\"z\").next_to(dot, DOWN)\n",
    "        self.play(Create(dot), Write(dot_label))\n",
    "        neighbourhood = Circle(radius=0.2).move_to(dot)\n",
    "        neighbourhood.set_fill(color=BLUE, opacity=0.5)\n",
    "        labels = [MathTex(\"B_\\\\varepsilon(z)\").next_to(neighbourhood, UP)]\n",
    "        self.play(Create(neighbourhood), Write(labels[0]))\n",
    "        for i in range(5):\n",
    "            labels.append(MathTex(f\"Q_c^{str(i+1)}(B_\\\\varepsilon(z))\").move_to(labels[0]))\n",
    "            self.play(\n",
    "                ApplyPointwiseFunction(\n",
    "                    lambda point: complex_to_R3(R3_to_complex(point)**2), neighbourhood\n",
    "                ),\n",
    "                ReplacementTransform(labels[i], labels[i+1])\n",
    "            )\n",
    "        self.wait()\n",
    "\n",
    "%manim -qm Supersensitive"
   ]
  },
  {
   "cell_type": "code",
   "execution_count": null,
   "metadata": {},
   "outputs": [],
   "source": []
  }
 ],
 "metadata": {
  "kernelspec": {
   "display_name": "Python 3",
   "language": "python",
   "name": "python3"
  },
  "language_info": {
   "codemirror_mode": {
    "name": "ipython",
    "version": 3
   },
   "file_extension": ".py",
   "mimetype": "text/x-python",
   "name": "python",
   "nbconvert_exporter": "python",
   "pygments_lexer": "ipython3",
   "version": "3.10.12"
  }
 },
 "nbformat": 4,
 "nbformat_minor": 2
}
